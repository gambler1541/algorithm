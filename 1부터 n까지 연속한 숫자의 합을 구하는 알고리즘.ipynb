{
 "cells": [
  {
   "cell_type": "code",
   "execution_count": 1,
   "metadata": {},
   "outputs": [],
   "source": [
    "# 1부터 n까지의 연속한 합을 구하는 알고리즘 1\n",
    "# 입력: n\n",
    "# 출력: 1부터 n까지의 숫자를 더한 값\n",
    "\n",
    "def sum_n(n):\n",
    "    s = 0                   # 합을 계산할 변수\n",
    "    for i in range(1, n+1): # 1부터 n까지 반복(n+1은 제외)\n",
    "        s = s + i\n",
    "    return s"
   ]
  },
  {
   "cell_type": "code",
   "execution_count": null,
   "metadata": {},
   "outputs": [],
   "source": [
    "print(sum_n(10))         #1부터 10까지의 합(입력:1\n",
    "print(sum_n(100))"
   ]
  }
 ],
 "metadata": {
  "kernelspec": {
   "display_name": "Python 3",
   "language": "python",
   "name": "python3"
  },
  "language_info": {
   "codemirror_mode": {
    "name": "ipython",
    "version": 3
   },
   "file_extension": ".py",
   "mimetype": "text/x-python",
   "name": "python",
   "nbconvert_exporter": "python",
   "pygments_lexer": "ipython3",
   "version": "3.6.5"
  }
 },
 "nbformat": 4,
 "nbformat_minor": 2
}
