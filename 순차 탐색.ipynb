{
 "cells": [
  {
   "cell_type": "code",
   "execution_count": 1,
   "metadata": {},
   "outputs": [],
   "source": [
    "# 리스트에서 특정 숫자의 위치 찾기\n",
    "# 입력: 리스트 a, 찾는 값 x\n",
    "# 출력: 찾으면 그 값의 위치, 찾지 못하면 -1"
   ]
  },
  {
   "cell_type": "code",
   "execution_count": 2,
   "metadata": {},
   "outputs": [],
   "source": [
    "def search_list(a, x):\n",
    "    n = len(a)               # 입력크기 n\n",
    "    for i in range(0, n):    # 처음부터 끝까지 비교\n",
    "        if a[i] == x:        \n",
    "            return i         # 만약 x와 a[i]의 값이 같다면 i를 반환(찾는 값의 위치)\n",
    "    return -1                # 없다면 -1을 반환"
   ]
  },
  {
   "cell_type": "code",
   "execution_count": 3,
   "metadata": {},
   "outputs": [],
   "source": [
    "li = [2,3,5,1,23,232]"
   ]
  },
  {
   "cell_type": "code",
   "execution_count": 6,
   "metadata": {},
   "outputs": [
    {
     "data": {
      "text/plain": [
       "-1"
      ]
     },
     "execution_count": 6,
     "metadata": {},
     "output_type": "execute_result"
    }
   ],
   "source": [
    "search_list(li,123)"
   ]
  },
  {
   "cell_type": "markdown",
   "metadata": {},
   "source": [
    "# 연습 문제\n",
    "\n",
    "1. 위의 프로그램은 찾는 값이 여러개 있더라도 첫 번째 위치만 결과로 돌려준다. 찾는 값이 나오는 모든 위치를 리스트로 돌려주는 탐색 알고리즘을 만들어 보기(결과값이 없다면 빈 리스트를 return"
   ]
  },
  {
   "cell_type": "code",
   "execution_count": 37,
   "metadata": {},
   "outputs": [],
   "source": [
    "def search_list_all(a, x):\n",
    "    result = list()\n",
    "    n = len(a)\n",
    "    for i in range(0,n):\n",
    "        if a[i] == x:\n",
    "            result.append(i)\n",
    "    return result\n",
    "\n",
    "# 이 알고리즘은 자료가 있던 없던 자료길이 n만큼 순회하므로 O(n)"
   ]
  },
  {
   "cell_type": "code",
   "execution_count": 34,
   "metadata": {},
   "outputs": [],
   "source": [
    "li2 = [2, 4, 2, 10, 5, 2, 199]"
   ]
  },
  {
   "cell_type": "code",
   "execution_count": 39,
   "metadata": {},
   "outputs": [
    {
     "name": "stdout",
     "output_type": "stream",
     "text": [
      "[0, 2, 5]\n",
      "[]\n"
     ]
    }
   ],
   "source": [
    "print(search_list_all(li2, 2))\n",
    "print(search_list_all(li2,8))"
   ]
  },
  {
   "cell_type": "markdown",
   "metadata": {},
   "source": [
    "# 2. 학생 번호와 이름이 리스트로 주어졌을 때 학생 번호를 입력하면 학생 번호에 해당하는 이름을 순차 탐색으로 찾아 돌려주는 함수\n",
    "     2-1. 해당하는 학생 번호가 없으면 물음표(?)를 돌려줌\n",
    "     2-2. 학생 번호가 39번이면 'justin', 14번이면 'john'을 돌려줌\n",
    "     stu_no = [39, 14, 67, 105]\n",
    "     stu_name = ['justin', 'john', 'mike', 'summer']"
   ]
  },
  {
   "cell_type": "code",
   "execution_count": 59,
   "metadata": {},
   "outputs": [],
   "source": [
    "def search_student(stu_no, stu_name, s):\n",
    "    n = len(stu_no)\n",
    "    for i in range(0, n):\n",
    "        if s == stu_no[i]:\n",
    "            return stu_name[i]\n",
    "    return print('?')"
   ]
  },
  {
   "cell_type": "code",
   "execution_count": 60,
   "metadata": {},
   "outputs": [],
   "source": [
    "stu_no = [39, 14, 67, 105]\n",
    "stu_name = ['justin', 'john', 'mike', 'summer']"
   ]
  },
  {
   "cell_type": "code",
   "execution_count": 64,
   "metadata": {},
   "outputs": [
    {
     "data": {
      "text/plain": [
       "'summer'"
      ]
     },
     "execution_count": 64,
     "metadata": {},
     "output_type": "execute_result"
    }
   ],
   "source": [
    "search_student(stu_no, stu_name, 105)"
   ]
  },
  {
   "cell_type": "code",
   "execution_count": null,
   "metadata": {},
   "outputs": [],
   "source": []
  }
 ],
 "metadata": {
  "kernelspec": {
   "display_name": "Python 3",
   "language": "python",
   "name": "python3"
  },
  "language_info": {
   "codemirror_mode": {
    "name": "ipython",
    "version": 3
   },
   "file_extension": ".py",
   "mimetype": "text/x-python",
   "name": "python",
   "nbconvert_exporter": "python",
   "pygments_lexer": "ipython3",
   "version": "3.6.5"
  }
 },
 "nbformat": 4,
 "nbformat_minor": 2
}
