{
 "cells": [
  {
   "cell_type": "code",
   "execution_count": 1,
   "metadata": {},
   "outputs": [],
   "source": [
    "# 쉽게 설명한 선택 정렬\n",
    "# 입력: 리스트 a\n",
    "# 출력: 정렬된 새 리스트\n",
    "# 주어진 리스트에서 촤솟값의 위치를 돌려주는 함수"
   ]
  },
  {
   "cell_type": "code",
   "execution_count": 5,
   "metadata": {},
   "outputs": [],
   "source": [
    "def find_min_idx(a):\n",
    "    n = len(a)          # 리스트의 길이\n",
    "    min_idx = 0         # 최초 min_idx(최솟값)은 0번째 인덱스값을 가짐\n",
    "    for i in range(1, n): # 1번째(두 번째 자료)부터 끝까지 순회)\n",
    "        if a[i] < a[min_idx]:  # 현재 i번째 값과 min_idx에 해당하는 리스트의 값을 비교하여\n",
    "            min_idx = i # i번째 값이 더 작다면 min_idx에 i를 저장\n",
    "    return min_idx      # 순회가 끝나고 난 뒤 min_idx에 저장된 값을 리턴"
   ]
  },
  {
   "cell_type": "code",
   "execution_count": 6,
   "metadata": {},
   "outputs": [],
   "source": [
    "def sel_sort(a):\n",
    "    result = []   # 출력될 리스트가 담긴 변수\n",
    "    while a:      # 주어진 리스트에 값이 남아있다면 계속 반복\n",
    "        min_idx = find_min_idx(a) # 주어진 리스트에서 최솟값을 찾음(find_min_idx()함수 사용)\n",
    "        value = a.pop(min_idx)    # 최솟값을 현재 입력 리스트에서 제외\n",
    "        result.append(value)      # 제외된 값을 result에 추가\n",
    "    return result                 # 리스트의 모든 자료를 순회하면 정렬된 리스트가 리턴"
   ]
  },
  {
   "cell_type": "code",
   "execution_count": 7,
   "metadata": {},
   "outputs": [
    {
     "name": "stdout",
     "output_type": "stream",
     "text": [
      "[1, 2, 3, 4, 5]\n"
     ]
    }
   ],
   "source": [
    "d = [2,4,5,1,3]\n",
    "print(sel_sort(d))"
   ]
  },
  {
   "cell_type": "code",
   "execution_count": null,
   "metadata": {},
   "outputs": [],
   "source": []
  }
 ],
 "metadata": {
  "kernelspec": {
   "display_name": "Python 3",
   "language": "python",
   "name": "python3"
  },
  "language_info": {
   "codemirror_mode": {
    "name": "ipython",
    "version": 3
   },
   "file_extension": ".py",
   "mimetype": "text/x-python",
   "name": "python",
   "nbconvert_exporter": "python",
   "pygments_lexer": "ipython3",
   "version": "3.6.5"
  }
 },
 "nbformat": 4,
 "nbformat_minor": 2
}
