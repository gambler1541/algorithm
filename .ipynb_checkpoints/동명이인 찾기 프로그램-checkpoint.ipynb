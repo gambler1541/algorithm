{
 "cells": [
  {
   "cell_type": "code",
   "execution_count": 18,
   "metadata": {},
   "outputs": [],
   "source": [
    "def find_same_name(a):\n",
    "    n = len(a)                     # 인자로 받은 리스트의 길이를 n에 저장\n",
    "    result = set()                 # return할 자료형은 set\n",
    "    for i in range(0, n-1):        # 처음부터 n-2까지 반복(마지막은 검사할 필요가 없기때문)\n",
    "        for j in range(i+1, n):    # i 다음 자료부터 마지막까지 순회\n",
    "            if a[i] == a[j]:       # 리스트의 i번째 자료와 j번째 자료가 같다면(동명이인 이라면)\n",
    "                result.add(a[i])   # result에 그 이름을 추가\n",
    "    return result"
   ]
  },
  {
   "cell_type": "code",
   "execution_count": 19,
   "metadata": {},
   "outputs": [],
   "source": [
    "name = ['tom','jerry','mike','tom']"
   ]
  },
  {
   "cell_type": "code",
   "execution_count": 20,
   "metadata": {},
   "outputs": [
    {
     "name": "stdout",
     "output_type": "stream",
     "text": [
      "{'tom'}\n"
     ]
    }
   ],
   "source": [
    "print(find_same_name(name))"
   ]
  },
  {
   "cell_type": "code",
   "execution_count": null,
   "metadata": {},
   "outputs": [],
   "source": []
  },
  {
   "cell_type": "code",
   "execution_count": null,
   "metadata": {},
   "outputs": [],
   "source": []
  }
 ],
 "metadata": {
  "kernelspec": {
   "display_name": "Python 3",
   "language": "python",
   "name": "python3"
  },
  "language_info": {
   "codemirror_mode": {
    "name": "ipython",
    "version": 3
   },
   "file_extension": ".py",
   "mimetype": "text/x-python",
   "name": "python",
   "nbconvert_exporter": "python",
   "pygments_lexer": "ipython3",
   "version": "3.6.5"
  }
 },
 "nbformat": 4,
 "nbformat_minor": 2
}
