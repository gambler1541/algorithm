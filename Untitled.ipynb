{
 "cells": [
  {
   "cell_type": "code",
   "execution_count": 4,
   "metadata": {},
   "outputs": [],
   "source": [
    "import math # 수학 모듈 사용\n",
    "\n",
    "#절댓값 알고리즘 1(부호판단)\n",
    "\n",
    "# 입력:실수 a\n",
    "# 출력:a의 절댓값\n",
    "\n",
    "def abs_sign(a):\n",
    "    if a >= 0:\n",
    "        return a\n",
    "    else:\n",
    "        return -a\n",
    "    \n",
    "# 절댓값 알고리즘2(제곱-제곱근)\n",
    "# 입력:실수 a\n",
    "# 출력:a의 절댓값\n",
    "\n",
    "def abs_square(a):\n",
    "    b = a * a\n",
    "    return math.sqrt(b) # 수학 모듈의 제곱근 함수"
   ]
  },
  {
   "cell_type": "code",
   "execution_count": 5,
   "metadata": {},
   "outputs": [
    {
     "name": "stdout",
     "output_type": "stream",
     "text": [
      "5\n",
      "3\n",
      "5.0\n",
      "3.0\n"
     ]
    }
   ],
   "source": [
    "print(abs_sign(5))\n",
    "print(abs_sign(-3))\n",
    "print(abs_square(5))\n",
    "print(abs_square(-3))"
   ]
  },
  {
   "cell_type": "code",
   "execution_count": null,
   "metadata": {},
   "outputs": [],
   "source": []
  },
  {
   "cell_type": "code",
   "execution_count": null,
   "metadata": {},
   "outputs": [],
   "source": []
  }
 ],
 "metadata": {
  "kernelspec": {
   "display_name": "Python 3",
   "language": "python",
   "name": "python3"
  },
  "language_info": {
   "codemirror_mode": {
    "name": "ipython",
    "version": 3
   },
   "file_extension": ".py",
   "mimetype": "text/x-python",
   "name": "python",
   "nbconvert_exporter": "python",
   "pygments_lexer": "ipython3",
   "version": "3.6.5"
  }
 },
 "nbformat": 4,
 "nbformat_minor": 2
}
