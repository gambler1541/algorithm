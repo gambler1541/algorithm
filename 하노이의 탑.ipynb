{
 "cells": [
  {
   "cell_type": "code",
   "execution_count": null,
   "metadata": {},
   "outputs": [],
   "source": [
    "# 입력 값\n",
    "  # n    : 원반의 갯수\n",
    "  # start: 시작할 기둥\n",
    "  # end  : 원반을 옮길 기둥\n",
    "  # sub  : 옮기는 과정에서 사용할 보조 기둥\n",
    "# 출력 값 : 원반을 옮기는 순서\n",
    "\n",
    "def hanoi(n,start,end,sub):\n",
    "    if n == 1:                         # 원반이 한개일 경우 시작 기둥에서 도착 기둥까지 한번에 이동\n",
    "        print(start, '->', end) \n",
    "        return\n",
    "    hanoi(n-1,start,sub,end)           # 원반 n-1개를 시작 지점에서 sub지점 까지 이동(end기둥을 보조 기둥으로 사용)\n",
    "    print(start,'->',end)              # 가장 큰 원반을 목저지(end)로 이동\n",
    "    hanoi(n-1,sub,end,start)           # sub에 있는 원반 n-1개를 end로 이동(start기둥을 보조기둥으로 사용)"
   ]
  },
  {
   "cell_type": "code",
   "execution_count": 26,
   "metadata": {},
   "outputs": [
    {
     "name": "stdout",
     "output_type": "stream",
     "text": [
      "n=1\n",
      "1 -> 3\n",
      "n=2\n",
      "1 -> 2\n",
      "1 -> 3\n",
      "2 -> 3\n",
      "n=3\n",
      "1 -> 3\n",
      "1 -> 2\n",
      "3 -> 2\n",
      "1 -> 3\n",
      "2 -> 1\n",
      "2 -> 3\n",
      "1 -> 3\n"
     ]
    }
   ],
   "source": [
    "print('n=1')\n",
    "hanoi(1, 1, 3, 2)\n",
    "print('n=2')\n",
    "hanoi(2, 1, 3, 2)\n",
    "print('n=3')\n",
    "hanoi(3, 1, 3, 2)"
   ]
  },
  {
   "cell_type": "code",
   "execution_count": null,
   "metadata": {},
   "outputs": [],
   "source": []
  }
 ],
 "metadata": {
  "kernelspec": {
   "display_name": "Python 3",
   "language": "python",
   "name": "python3"
  },
  "language_info": {
   "codemirror_mode": {
    "name": "ipython",
    "version": 3
   },
   "file_extension": ".py",
   "mimetype": "text/x-python",
   "name": "python",
   "nbconvert_exporter": "python",
   "pygments_lexer": "ipython3",
   "version": "3.6.5"
  }
 },
 "nbformat": 4,
 "nbformat_minor": 2
}
